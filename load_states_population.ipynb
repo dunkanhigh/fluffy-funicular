{
 "cells": [
  {
   "cell_type": "code",
   "execution_count": 6,
   "id": "b4f3221e",
   "metadata": {},
   "outputs": [],
   "source": [
    "import pandas as pd\n"
   ]
  },
  {
   "cell_type": "code",
   "execution_count": 7,
   "id": "19093a63",
   "metadata": {},
   "outputs": [],
   "source": [
    "states = [\n",
    "    \"California\", \"Texas\", \"Florida\", \"New York\", \"Pennsylvania\",\n",
    "    \"Illinois\", \"Ohio\", \"Georgia\", \"North Carolina\", \"Michigan\",\n",
    "    \"New Jersey\", \"Virginia\", \"Washington\", \"Arizona\", \"Massachusetts\",\n",
    "    \"Tennessee\", \"Indiana\", \"Maryland\", \"Missouri\", \"Wisconsin\",\n",
    "    \"Colorado\", \"Minnesota\", \"South Carolina\", \"Alabama\", \"Louisiana\",\n",
    "    \"Kentucky\", \"Oregon\", \"Oklahoma\", \"Connecticut\", \"Utah\",\n",
    "    \"Iowa\", \"Nevada\", \"Arkansas\", \"Mississippi\", \"Kansas\",\n",
    "    \"New Mexico\", \"Nebraska\", \"Idaho\", \"West Virginia\", \"Hawaii\",\n",
    "    \"New Hampshire\", \"Maine\", \"Rhode Island\", \"Montana\", \"Delaware\",\n",
    "    \"South Dakota\", \"North Dakota\", \"Alaska\", \"District of Columbia\",\n",
    "    \"Vermont\", \"Wyoming\"\n",
    "]\n",
    "\n",
    "population_2020 = [\n",
    "    39538223, 29145505, 21538187, 20201249, 13002700,\n",
    "    12812508, 11799448, 10711908, 10439388, 10077331,\n",
    "    9288994, 8631393, 7705281, 7151502, 7029917,\n",
    "    6910840, 6785528, 6177224, 6154913, 5893718,\n",
    "    5773714, 5706494, 5118425, 5024279, 4657757,\n",
    "    4505836, 4237256, 3959353, 3605944, 3271616,\n",
    "    3190369, 3104614, 3011524, 2961279, 2937880,\n",
    "    2117522, 1961504, 1839106, 1793716, 1455271,\n",
    "    1377529, 1362359, 1097379, 1084225, 989948,\n",
    "    886667, 779094, 733391, 689545, 643077,\n",
    "    576851\n",
    "]\n",
    "\n",
    "df_population = pd.DataFrame({\n",
    "    'state': states,\n",
    "    'population': population_2020\n",
    "})\n"
   ]
  },
  {
   "cell_type": "code",
   "execution_count": 8,
   "id": "bf102578",
   "metadata": {},
   "outputs": [],
   "source": [
    "df_population.to_csv('population_data.csv', index=False)"
   ]
  }
 ],
 "metadata": {
  "kernelspec": {
   "display_name": "venv",
   "language": "python",
   "name": "python3"
  },
  "language_info": {
   "codemirror_mode": {
    "name": "ipython",
    "version": 3
   },
   "file_extension": ".py",
   "mimetype": "text/x-python",
   "name": "python",
   "nbconvert_exporter": "python",
   "pygments_lexer": "ipython3",
   "version": "3.12.9"
  }
 },
 "nbformat": 4,
 "nbformat_minor": 5
}
